{
 "cells": [
  {
   "cell_type": "markdown",
   "id": "edbf3ff4",
   "metadata": {},
   "source": [
    "# Assignment 01: Credit Card Data Analysis"
   ]
  },
  {
   "cell_type": "code",
   "execution_count": 1,
   "id": "f3a1b06c",
   "metadata": {},
   "outputs": [],
   "source": [
    "import numpy as np\n",
    "import pandas as pd\n",
    "import matplotlib.pyplot as plt\n",
    "import seaborn as sns\n",
    "import warnings\n",
    "warnings.filterwarnings('ignore')"
   ]
  },
  {
   "cell_type": "markdown",
   "id": "02c61bbb",
   "metadata": {},
   "source": [
    "The file Credit Card Data.xlsx has 3 tabs with the following data:\n",
    "\n",
    "Credit Card customer master data                                     \n",
    "Spend (Transaction) data                                 \n",
    "Card repayment information   \n",
    "\n",
    "Read the data in the excel file using Pandas library:"
   ]
  },
  {
   "cell_type": "code",
   "execution_count": 2,
   "id": "b63e7341",
   "metadata": {},
   "outputs": [
    {
     "name": "stdout",
     "output_type": "stream",
     "text": [
      "(100, 8)\n"
     ]
    },
    {
     "data": {
      "text/html": [
       "<div>\n",
       "<style scoped>\n",
       "    .dataframe tbody tr th:only-of-type {\n",
       "        vertical-align: middle;\n",
       "    }\n",
       "\n",
       "    .dataframe tbody tr th {\n",
       "        vertical-align: top;\n",
       "    }\n",
       "\n",
       "    .dataframe thead th {\n",
       "        text-align: right;\n",
       "    }\n",
       "</style>\n",
       "<table border=\"1\" class=\"dataframe\">\n",
       "  <thead>\n",
       "    <tr style=\"text-align: right;\">\n",
       "      <th></th>\n",
       "      <th>No</th>\n",
       "      <th>Customer</th>\n",
       "      <th>Age</th>\n",
       "      <th>City</th>\n",
       "      <th>Product</th>\n",
       "      <th>Limit</th>\n",
       "      <th>Company</th>\n",
       "      <th>Segment</th>\n",
       "    </tr>\n",
       "  </thead>\n",
       "  <tbody>\n",
       "    <tr>\n",
       "      <th>46</th>\n",
       "      <td>47</td>\n",
       "      <td>A47</td>\n",
       "      <td>16</td>\n",
       "      <td>CHENNAI</td>\n",
       "      <td>Platimum</td>\n",
       "      <td>1380000</td>\n",
       "      <td>C9</td>\n",
       "      <td>Normal Salary</td>\n",
       "    </tr>\n",
       "    <tr>\n",
       "      <th>82</th>\n",
       "      <td>83</td>\n",
       "      <td>A83</td>\n",
       "      <td>36</td>\n",
       "      <td>COCHIN</td>\n",
       "      <td>Platimum</td>\n",
       "      <td>10000</td>\n",
       "      <td>C6</td>\n",
       "      <td>Govt</td>\n",
       "    </tr>\n",
       "    <tr>\n",
       "      <th>36</th>\n",
       "      <td>37</td>\n",
       "      <td>A37</td>\n",
       "      <td>74</td>\n",
       "      <td>BANGALORE</td>\n",
       "      <td>Platimum</td>\n",
       "      <td>600018</td>\n",
       "      <td>C19</td>\n",
       "      <td>Normal Salary</td>\n",
       "    </tr>\n",
       "    <tr>\n",
       "      <th>20</th>\n",
       "      <td>21</td>\n",
       "      <td>A21</td>\n",
       "      <td>22</td>\n",
       "      <td>COCHIN</td>\n",
       "      <td>Platimum</td>\n",
       "      <td>780000</td>\n",
       "      <td>C21</td>\n",
       "      <td>Normal Salary</td>\n",
       "    </tr>\n",
       "    <tr>\n",
       "      <th>31</th>\n",
       "      <td>32</td>\n",
       "      <td>A32</td>\n",
       "      <td>48</td>\n",
       "      <td>COCHIN</td>\n",
       "      <td>Gold</td>\n",
       "      <td>1500000</td>\n",
       "      <td>C14</td>\n",
       "      <td>Self Employed</td>\n",
       "    </tr>\n",
       "  </tbody>\n",
       "</table>\n",
       "</div>"
      ],
      "text/plain": [
       "    No Customer  Age       City   Product    Limit Company        Segment\n",
       "46  47      A47   16    CHENNAI  Platimum  1380000      C9  Normal Salary\n",
       "82  83      A83   36     COCHIN  Platimum    10000      C6           Govt\n",
       "36  37      A37   74  BANGALORE  Platimum   600018     C19  Normal Salary\n",
       "20  21      A21   22     COCHIN  Platimum   780000     C21  Normal Salary\n",
       "31  32      A32   48     COCHIN      Gold  1500000     C14  Self Employed"
      ]
     },
     "execution_count": 2,
     "metadata": {},
     "output_type": "execute_result"
    }
   ],
   "source": [
    "# Credit Card customer master data\n",
    "customer_data = pd.read_excel(r'data\\Credit_Card_Data.xlsx', sheet_name='Customer Details')\n",
    "print(customer_data.shape)\n",
    "customer_data.sample(5)"
   ]
  },
  {
   "cell_type": "code",
   "execution_count": 3,
   "id": "59178dc5",
   "metadata": {},
   "outputs": [
    {
     "name": "stdout",
     "output_type": "stream",
     "text": [
      "(1500, 5)\n"
     ]
    },
    {
     "data": {
      "text/html": [
       "<div>\n",
       "<style scoped>\n",
       "    .dataframe tbody tr th:only-of-type {\n",
       "        vertical-align: middle;\n",
       "    }\n",
       "\n",
       "    .dataframe tbody tr th {\n",
       "        vertical-align: top;\n",
       "    }\n",
       "\n",
       "    .dataframe thead th {\n",
       "        text-align: right;\n",
       "    }\n",
       "</style>\n",
       "<table border=\"1\" class=\"dataframe\">\n",
       "  <thead>\n",
       "    <tr style=\"text-align: right;\">\n",
       "      <th></th>\n",
       "      <th>Sl No:</th>\n",
       "      <th>Customer</th>\n",
       "      <th>Month</th>\n",
       "      <th>Type</th>\n",
       "      <th>Amount</th>\n",
       "    </tr>\n",
       "  </thead>\n",
       "  <tbody>\n",
       "    <tr>\n",
       "      <th>257</th>\n",
       "      <td>258</td>\n",
       "      <td>A6</td>\n",
       "      <td>2005-05-26</td>\n",
       "      <td>PETRO</td>\n",
       "      <td>485.320842</td>\n",
       "    </tr>\n",
       "    <tr>\n",
       "      <th>1198</th>\n",
       "      <td>1199</td>\n",
       "      <td>A43</td>\n",
       "      <td>2004-01-15</td>\n",
       "      <td>CLOTHES</td>\n",
       "      <td>20735.673519</td>\n",
       "    </tr>\n",
       "    <tr>\n",
       "      <th>1112</th>\n",
       "      <td>1113</td>\n",
       "      <td>A44</td>\n",
       "      <td>2004-04-06</td>\n",
       "      <td>BUS TICKET</td>\n",
       "      <td>41160.393574</td>\n",
       "    </tr>\n",
       "    <tr>\n",
       "      <th>1061</th>\n",
       "      <td>1062</td>\n",
       "      <td>A51</td>\n",
       "      <td>2006-03-31</td>\n",
       "      <td>FOOD</td>\n",
       "      <td>338.034409</td>\n",
       "    </tr>\n",
       "    <tr>\n",
       "      <th>1423</th>\n",
       "      <td>1424</td>\n",
       "      <td>A36</td>\n",
       "      <td>2005-02-01</td>\n",
       "      <td>AIR TICKET</td>\n",
       "      <td>374251.178232</td>\n",
       "    </tr>\n",
       "  </tbody>\n",
       "</table>\n",
       "</div>"
      ],
      "text/plain": [
       "      Sl No: Customer      Month        Type         Amount\n",
       "257      258       A6 2005-05-26       PETRO     485.320842\n",
       "1198    1199      A43 2004-01-15     CLOTHES   20735.673519\n",
       "1112    1113      A44 2004-04-06  BUS TICKET   41160.393574\n",
       "1061    1062      A51 2006-03-31        FOOD     338.034409\n",
       "1423    1424      A36 2005-02-01  AIR TICKET  374251.178232"
      ]
     },
     "execution_count": 3,
     "metadata": {},
     "output_type": "execute_result"
    }
   ],
   "source": [
    "# Spend (Transaction) data\n",
    "spend_data = pd.read_excel(r\"data\\Credit_Card_Data.xlsx\", sheet_name='Spend')\n",
    "print(spend_data.shape)\n",
    "spend_data.sample(5)"
   ]
  },
  {
   "cell_type": "code",
   "execution_count": 4,
   "id": "da48e90e",
   "metadata": {},
   "outputs": [
    {
     "name": "stdout",
     "output_type": "stream",
     "text": [
      "(807, 4)\n"
     ]
    },
    {
     "data": {
      "text/html": [
       "<div>\n",
       "<style scoped>\n",
       "    .dataframe tbody tr th:only-of-type {\n",
       "        vertical-align: middle;\n",
       "    }\n",
       "\n",
       "    .dataframe tbody tr th {\n",
       "        vertical-align: top;\n",
       "    }\n",
       "\n",
       "    .dataframe thead th {\n",
       "        text-align: right;\n",
       "    }\n",
       "</style>\n",
       "<table border=\"1\" class=\"dataframe\">\n",
       "  <thead>\n",
       "    <tr style=\"text-align: right;\">\n",
       "      <th></th>\n",
       "      <th>SL No:</th>\n",
       "      <th>Customer</th>\n",
       "      <th>Month</th>\n",
       "      <th>Amount</th>\n",
       "    </tr>\n",
       "  </thead>\n",
       "  <tbody>\n",
       "    <tr>\n",
       "      <th>527</th>\n",
       "      <td>528</td>\n",
       "      <td>A48</td>\n",
       "      <td>2005-08-25</td>\n",
       "      <td>900.428611</td>\n",
       "    </tr>\n",
       "    <tr>\n",
       "      <th>325</th>\n",
       "      <td>326</td>\n",
       "      <td>A32</td>\n",
       "      <td>2005-06-12</td>\n",
       "      <td>4031.743695</td>\n",
       "    </tr>\n",
       "    <tr>\n",
       "      <th>349</th>\n",
       "      <td>350</td>\n",
       "      <td>A35</td>\n",
       "      <td>2004-02-14</td>\n",
       "      <td>11684.774696</td>\n",
       "    </tr>\n",
       "    <tr>\n",
       "      <th>662</th>\n",
       "      <td>663</td>\n",
       "      <td>A58</td>\n",
       "      <td>2005-09-26</td>\n",
       "      <td>93.291852</td>\n",
       "    </tr>\n",
       "    <tr>\n",
       "      <th>657</th>\n",
       "      <td>658</td>\n",
       "      <td>A58</td>\n",
       "      <td>2004-02-05</td>\n",
       "      <td>826430.961072</td>\n",
       "    </tr>\n",
       "  </tbody>\n",
       "</table>\n",
       "</div>"
      ],
      "text/plain": [
       "     SL No: Customer      Month         Amount\n",
       "527     528      A48 2005-08-25     900.428611\n",
       "325     326      A32 2005-06-12    4031.743695\n",
       "349     350      A35 2004-02-14   11684.774696\n",
       "662     663      A58 2005-09-26      93.291852\n",
       "657     658      A58 2004-02-05  826430.961072"
      ]
     },
     "execution_count": 4,
     "metadata": {},
     "output_type": "execute_result"
    }
   ],
   "source": [
    "# Card repayment information\n",
    "repayment_data = pd.read_excel(r\"data\\Credit_Card_Data.xlsx\", sheet_name='Repayment')\n",
    "print(repayment_data.shape)\n",
    "repayment_data.sample(5)"
   ]
  },
  {
   "cell_type": "raw",
   "id": "32426191",
   "metadata": {},
   "source": []
  },
  {
   "cell_type": "markdown",
   "id": "012cf846",
   "metadata": {},
   "source": [
    "Check the data for any corrupt data, missing values, incorrect data types etc. Make the following substitution:  \n",
    "Age of credit card customer can't be less than 18. In case age is less than 18, replace it with mean of age."
   ]
  },
  {
   "cell_type": "code",
   "execution_count": 5,
   "id": "4067af41",
   "metadata": {},
   "outputs": [
    {
     "name": "stdout",
     "output_type": "stream",
     "text": [
      "Missing values in Customer Data:\n",
      "0 \n",
      "\n",
      "No           int64\n",
      "Customer    object\n",
      "Age          int64\n",
      "City        object\n",
      "Product     object\n",
      "Limit        int64\n",
      "Company     object\n",
      "Segment     object\n",
      "dtype: object \n",
      "\n",
      "\n",
      "Missing values in Spend Data:\n",
      "0 \n",
      "\n",
      "Sl No:               int64\n",
      "Customer            object\n",
      "Month       datetime64[ns]\n",
      "Type                object\n",
      "Amount             float64\n",
      "dtype: object \n",
      "\n",
      "\n",
      "Missing values in Repayment Data:\n",
      "4 \n",
      "\n",
      "SL No:               int64\n",
      "Customer            object\n",
      "Month       datetime64[ns]\n",
      "Amount             float64\n",
      "dtype: object\n"
     ]
    }
   ],
   "source": [
    "# Check for missing and data types\n",
    "print(\"Missing values in Customer Data:\")\n",
    "print(customer_data.isna().sum().sum(), '\\n')\n",
    "print(customer_data.dtypes, '\\n\\n')\n",
    "print(\"Missing values in Spend Data:\")\n",
    "print(spend_data.isna().sum().sum(), '\\n')\n",
    "print(spend_data.dtypes, '\\n\\n')\n",
    "print(\"Missing values in Repayment Data:\")\n",
    "print(repayment_data.isna().sum().sum(), '\\n')\n",
    "print(repayment_data.dtypes)"
   ]
  },
  {
   "cell_type": "code",
   "execution_count": 6,
   "id": "160a4426",
   "metadata": {},
   "outputs": [
    {
     "data": {
      "text/plain": [
       "0"
      ]
     },
     "execution_count": 6,
     "metadata": {},
     "output_type": "execute_result"
    }
   ],
   "source": [
    "repayment_data.dropna(inplace = True)\n",
    "repayment_data.isna().sum().sum()"
   ]
  },
  {
   "cell_type": "code",
   "execution_count": 7,
   "id": "905e041a",
   "metadata": {},
   "outputs": [],
   "source": [
    "# Replace ages less than 18 with the mean age\n",
    "mean_age = customer_data['Age'].mean()\n",
    "customer_data['Age'] = customer_data['Age'].apply(lambda x: mean_age if x < 18 else x)"
   ]
  },
  {
   "cell_type": "raw",
   "id": "78ed83e4",
   "metadata": {},
   "source": []
  },
  {
   "cell_type": "raw",
   "id": "a77eedbc",
   "metadata": {},
   "source": [
    "Answer the following questions:\n",
    "\n",
    "1. How many unique customers are there?\n",
    "2. How many spend categories are there?\n",
    "3. Which category has the highest average spend?\n",
    "4. What is the average monthly spent by product categories?\n",
    "5. Which customers are reaching 90% or more of their spending limit?\n",
    "6. Which city has the maximum number of spenders, each month? Is there a need to run campaigns in specific cities?\n",
    "7. Which age group spends the most?"
   ]
  },
  {
   "cell_type": "markdown",
   "id": "5be18698",
   "metadata": {},
   "source": [
    "1. How many unique customers are there?"
   ]
  },
  {
   "cell_type": "code",
   "execution_count": 8,
   "id": "bb39e153",
   "metadata": {},
   "outputs": [
    {
     "name": "stdout",
     "output_type": "stream",
     "text": [
      "Number of unique customers: 100\n",
      "\n"
     ]
    }
   ],
   "source": [
    "print(f\"Number of unique customers: {customer_data['Customer'].nunique()}\\n\")"
   ]
  },
  {
   "cell_type": "markdown",
   "id": "d00ade4b",
   "metadata": {},
   "source": [
    "2. How many spend categories are there?"
   ]
  },
  {
   "cell_type": "code",
   "execution_count": 9,
   "id": "6bdf8c3a",
   "metadata": {},
   "outputs": [
    {
     "name": "stdout",
     "output_type": "stream",
     "text": [
      "Number of spend categories: 100\n",
      "\n"
     ]
    }
   ],
   "source": [
    "print(f\"Number of spend categories: {spend_data['Customer'].nunique()}\\n\")"
   ]
  },
  {
   "cell_type": "markdown",
   "id": "f1629a3c",
   "metadata": {},
   "source": [
    "3. Which category has the highest average spend?"
   ]
  },
  {
   "cell_type": "code",
   "execution_count": 10,
   "id": "fa3a1246",
   "metadata": {},
   "outputs": [
    {
     "name": "stdout",
     "output_type": "stream",
     "text": [
      "Category with the highest average spend: CAR\n",
      "\n"
     ]
    }
   ],
   "source": [
    "highest_avg_spend_category = spend_data.groupby('Type')['Amount'].mean().idxmax()\n",
    "print(f\"Category with the highest average spend: {highest_avg_spend_category}\\n\")"
   ]
  },
  {
   "cell_type": "markdown",
   "id": "7b6f570d",
   "metadata": {},
   "source": [
    "4. What is the average monthly spent by product categories?"
   ]
  },
  {
   "cell_type": "code",
   "execution_count": 11,
   "id": "9dbf018a",
   "metadata": {},
   "outputs": [
    {
     "name": "stdout",
     "output_type": "stream",
     "text": [
      "Average monthly spend by product categories:\n"
     ]
    },
    {
     "data": {
      "text/plain": [
       "Type\n",
       "AIR TICKET      254632.194082\n",
       "AUTO             27320.763977\n",
       "BIKE            210701.269489\n",
       "BUS TICKET       12681.030717\n",
       "CAMERA           21499.802175\n",
       "CAR             409143.467018\n",
       "CLOTHES          25140.160688\n",
       "FOOD               341.168321\n",
       "JEWELLERY       239218.687225\n",
       "MOVIE TICKET      1875.298919\n",
       "PETRO              549.483953\n",
       "RENTAL           13106.511138\n",
       "SANDALS           2516.628761\n",
       "SHOPPING          7394.332039\n",
       "TRAIN TICKET      1627.490364\n",
       "Name: Amount, dtype: float64"
      ]
     },
     "execution_count": 11,
     "metadata": {},
     "output_type": "execute_result"
    }
   ],
   "source": [
    "avg_monthly_spend_by_category = spend_data.groupby('Type')['Amount'].mean()\n",
    "print('Average monthly spend by product categories:')\n",
    "avg_monthly_spend_by_category"
   ]
  },
  {
   "cell_type": "markdown",
   "id": "1dae6756",
   "metadata": {},
   "source": [
    "5. Which customers are reaching 90% or more of their spending limit?"
   ]
  },
  {
   "cell_type": "code",
   "execution_count": 12,
   "id": "d10ddb91",
   "metadata": {},
   "outputs": [
    {
     "name": "stdout",
     "output_type": "stream",
     "text": [
      "Customers reaching 90% or more of their spending limit:\n"
     ]
    },
    {
     "data": {
      "text/plain": [
       "218     A13\n",
       "286     A15\n",
       "292     A16\n",
       "707     A33\n",
       "1218    A52\n",
       "1227    A53\n",
       "1442    A62\n",
       "1446    A62\n",
       "1448    A62\n",
       "1465    A69\n",
       "1495    A96\n",
       "1498    A99\n",
       "Name: Customer, dtype: object"
      ]
     },
     "execution_count": 12,
     "metadata": {},
     "output_type": "execute_result"
    }
   ],
   "source": [
    "spend_limit_df = customer_data.merge(spend_data, on='Customer')\n",
    "spend_limit_df['usage'] = spend_limit_df['Amount'] / spend_limit_df['Limit']\n",
    "customers_above_90_percent = spend_limit_df[spend_limit_df['usage'] >= 0.9]['Customer']\n",
    "print(\"Customers reaching 90% or more of their spending limit:\")\n",
    "customers_above_90_percent"
   ]
  },
  {
   "cell_type": "markdown",
   "id": "67b09a31",
   "metadata": {},
   "source": [
    "6. Which city has the maximum number of spenders, each month? Is there a need to run campaigns in specific cities?"
   ]
  },
  {
   "cell_type": "code",
   "execution_count": 13,
   "id": "44ad6fe9",
   "metadata": {},
   "outputs": [
    {
     "name": "stdout",
     "output_type": "stream",
     "text": [
      "City with the maximum number of spenders each month:\n",
      "            City  Customer\n",
      "month                     \n",
      "1         COCHIN        16\n",
      "2      BANGALORE        16\n",
      "3         COCHIN        15\n",
      "4      BANGALORE        12\n",
      "5         COCHIN        13\n",
      "6      BANGALORE         7\n",
      "7      BANGALORE         9\n",
      "8      BANGALORE         7\n",
      "9         COCHIN         9\n",
      "10     BANGALORE         8\n",
      "11     BANGALORE        10\n",
      "12        COCHIN         7\n"
     ]
    }
   ],
   "source": [
    "customer_spend_data = customer_data.merge(spend_data, on='Customer')\n",
    "customer_spend_data['month'] = customer_spend_data['Month'].dt.month\n",
    "city_monthly_spenders = customer_spend_data.groupby(['month', 'City'])['Customer'].nunique().reset_index()\n",
    "city_max_spenders_per_month = city_monthly_spenders.sort_values(by=['month', 'Customer'], ascending=[True, False])\n",
    "print('City with the maximum number of spenders each month:')\n",
    "print(city_max_spenders_per_month.groupby('month').first())"
   ]
  },
  {
   "cell_type": "markdown",
   "id": "5428ced5",
   "metadata": {},
   "source": [
    "Need to run campaigns in cities Cochin and Bangalore as they consistently attract the maximum number of spenders."
   ]
  },
  {
   "cell_type": "markdown",
   "id": "681cb4c4",
   "metadata": {},
   "source": [
    "7. Which age group spends the most?"
   ]
  },
  {
   "cell_type": "code",
   "execution_count": 14,
   "id": "8ece87e4",
   "metadata": {},
   "outputs": [
    {
     "name": "stdout",
     "output_type": "stream",
     "text": [
      "Age Group that spends the most:\n"
     ]
    },
    {
     "data": {
      "text/plain": [
       "'60-69'"
      ]
     },
     "execution_count": 14,
     "metadata": {},
     "output_type": "execute_result"
    }
   ],
   "source": [
    "bins = [18, 30, 40, 50, 60, 70, 120]\n",
    "labels = ['18-29', '30-39', '40-49', '50-59', '60-69', '70+']\n",
    "customer_data['age_group'] = pd.cut(customer_data['Age'], bins=bins, labels=labels)\n",
    "age_group_spend = customer_data.merge(spend_data, on='Customer').groupby('age_group')['Amount'].sum()\n",
    "print('Age Group that spends the most:')\n",
    "age_group_spend.idxmax()"
   ]
  },
  {
   "cell_type": "code",
   "execution_count": null,
   "id": "f5e46e3f",
   "metadata": {},
   "outputs": [],
   "source": []
  }
 ],
 "metadata": {
  "kernelspec": {
   "display_name": "Python 3 (ipykernel)",
   "language": "python",
   "name": "python3"
  },
  "language_info": {
   "codemirror_mode": {
    "name": "ipython",
    "version": 3
   },
   "file_extension": ".py",
   "mimetype": "text/x-python",
   "name": "python",
   "nbconvert_exporter": "python",
   "pygments_lexer": "ipython3",
   "version": "3.11.4"
  }
 },
 "nbformat": 4,
 "nbformat_minor": 5
}
